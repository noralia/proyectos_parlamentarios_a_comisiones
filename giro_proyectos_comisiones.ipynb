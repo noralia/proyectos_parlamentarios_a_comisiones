{
 "cells": [
  {
   "cell_type": "markdown",
   "metadata": {},
   "source": [
    "# Desafío final: Asignador de giro a comisiones para proyectos de ley\n",
    "## El problema:\n",
    "A la Cámara de Diputados ingresan proyectos de ley sobre distintos asuntos.  Al ingresar se redacta un título para el proyecto, y un breve sumario, y se lo envía (o \"gira\") a una o más comisiones de estudio de acuerdo al tema del proyecto.\n",
    "\n",
    "Las comisiones de estudio son 45; están formadas por grupos de veinte a cuarenta y cinco diputados y cada una se especializa en un tema determinado (educación, salud, medio ambiente, economía, etc).\n",
    "\n",
    "En promedio cada proyecto es girado a 2 o 3 comisiones.\n",
    "\n",
    "Una vez que las comisiones a las que fue girado un proyecto emiten un dictamen sobre el mismo, éste está en condiciones de ser tratado en el recinto de la Cámara.\n",
    "\n",
    "## El desafío:\n",
    "\n",
    "El desafío propuesto es hacer un clasificador que entrene con hasta 40 mil proyectos que ya fueron girados a comisiones en el pasado y pueda sugerir a qué comisiones deben asignarse los nuevos proyectos que ingresan.\n",
    "\n",
    "Consideramos las 45 comisiones a las que puede ser asignado cada proyecto, como una etiqueta. Y dado que a cada proyecto puede asignarse a más de una comisión, estamos ante un problema de clasificación **multi-label**.\n",
    "\n",
    "Scikit-learn provee una librería específica para problemas de clasificación multi-label: ** scikit-multilearn**.\n",
    "\n",
    "En este desafío vamos a probar distintos clasificadores para comparar su desempeño.\n"
   ]
  },
  {
   "cell_type": "markdown",
   "metadata": {},
   "source": [
    "*** Referencia: https://www.analyticsvidhya.com/blog/2017/08/introduction-to-multi-label-classification/ ***"
   ]
  },
  {
   "cell_type": "markdown",
   "metadata": {},
   "source": [
    "## Importación de las librerías a utilizar:"
   ]
  },
  {
   "cell_type": "code",
   "execution_count": null,
   "metadata": {},
   "outputs": [],
   "source": [
    "#!pip install scikit-multilearn\n",
    "#!pip install stop_words\n",
    "#!pip install spacy\n"
   ]
  },
  {
   "cell_type": "code",
   "execution_count": null,
   "metadata": {},
   "outputs": [],
   "source": [
    "from sklearn.pipeline import Pipeline\n",
    "from sklearn.pipeline import make_pipeline, make_union\n",
    "from sklearn.pipeline import FeatureUnion\n",
    "from sklearn.preprocessing import FunctionTransformer\n",
    "from sklearn.base import BaseEstimator, TransformerMixin\n",
    "\n",
    "from scipy.sparse import csr_matrix\n",
    "\n",
    "from skmultilearn.problem_transform import LabelPowerset\n",
    "from skmultilearn.problem_transform import ClassifierChain\n",
    "from sklearn.naive_bayes import GaussianNB\n",
    "from sklearn.naive_bayes import MultinomialNB\n",
    "from sklearn.metrics import accuracy_score\n",
    "from skmultilearn.problem_transform import BinaryRelevance\n",
    "import pandas as pd\n",
    "import numpy as np\n",
    "from sklearn.model_selection import train_test_split, KFold, cross_val_score\n",
    "from sklearn.feature_extraction.text import CountVectorizer\n",
    "from sklearn.feature_extraction.text import TfidfVectorizer\n",
    "from stop_words import get_stop_words\n",
    "from sklearn.metrics import accuracy_score\n",
    "import numpy as np\n",
    "from sklearn.metrics import average_precision_score\n",
    "from sklearn.metrics import hamming_loss\n",
    "\n",
    "import seaborn as sns\n",
    "import matplotlib.pyplot as plt\n",
    "\n",
    "from sklearn.feature_extraction.text import TfidfVectorizer\n",
    "from sklearn.svm import SVC\n",
    "from sklearn.datasets import make_multilabel_classification\n",
    "from sklearn.metrics import f1_score\n",
    "import scipy as scipy\n",
    "\n",
    "from sklearn.metrics import jaccard_similarity_score\n",
    "\n",
    "from sklearn.metrics import classification_report\n",
    "\n",
    "%matplotlib inline\n",
    "\n"
   ]
  },
  {
   "cell_type": "markdown",
   "metadata": {},
   "source": [
    "## Los datos:\n",
    "El dataset de proyectos se compone de los siguientes campos, todos de texto:\n",
    "* **EXPEDIENTE:**  string de números y letras que identifica a cada proyecto.\n",
    "* **TITULO:** breve descripción del asunto. (Solo en el dataset alternativo)\n",
    "* **SUMARIO:** breve descripción del texto del proyecto.\n",
    "* **VOCES:** palabras o expresiones que se asignan para facilitar la búsqueda y recuperación de los proyectos.  (No hay separadores). (Solo en el dataset alternativo)\n",
    "* **GIRO_INICIADORA:** string con la/s comisión/es a la/s que se envia el proyecto para su estudio.  Separadas por puntos y comas.\n",
    "\n",
    "El dataset de comisiones se compone de los siguientes campos,\n",
    "* **ID_COMISION:** identificador numérico único\n",
    "* **ORDEN:** para las 45 comisiones permanentes el número va de 1 a 45, y se repite únicamente para comisiones que han cambiado de nombre, ya que en estos casos el dataset contiene un registro por cada nombre que tuvo la comisión\n",
    "* **NOMBRE:** nombre de la comisión\n",
    "* **CAMARA:** en este caso vienn solamente las de la Cámara de Diputados\n",
    "* **GRUPO:** indica si la comisión es bicameral ('CD'=Diputados, 'CS=Senado) o bicameral ('CB')\n",
    "* **TIPO:** una P indica que es permanente, una E indica que es una comisión especial\n",
    "* **FINALIZADA:** si es True indica que cambió de nombre, y comparte el número de orden con otro registro, que posee el nombre actual"
   ]
  },
  {
   "cell_type": "code",
   "execution_count": null,
   "metadata": {},
   "outputs": [],
   "source": [
    "df = pd.read_csv(\"PL_DIPUTADOS_TODOS_GIRO_FIRMANTES_ME.csv\",  encoding=\"utf-8\")\n",
    "df.head()"
   ]
  },
  {
   "cell_type": "markdown",
   "metadata": {},
   "source": [
    "## Preparación de la lista de comisiones permanentes"
   ]
  },
  {
   "cell_type": "code",
   "execution_count": null,
   "metadata": {},
   "outputs": [],
   "source": [
    "df_comisiones = pd.read_csv(\"comisiones_permanentes.txt\", sep='\\t', encoding=\"utf-8\")\n",
    "#print(df_comisiones.columns)\n",
    "\n",
    "'''Se van a utilizar solamente el nombre de la comisión, el orden, y el booleano FINALIZADA para unificar con el mismo número de orden \n",
    "nombres diferentes que haya tenido una misma comisión a lo largo del tiempo:'''\n",
    "\n",
    "df_comisiones = df_comisiones[['NOMBRE', 'ORDEN', 'FINALIZADA']]\n",
    "df_comisiones.set_index('NOMBRE', inplace=True)\n",
    "\n",
    "df_comisiones.head()"
   ]
  },
  {
   "cell_type": "code",
   "execution_count": null,
   "metadata": {},
   "outputs": [],
   "source": [
    "#Confección de dos diccionario de comisiones\n",
    "dict_comisiones = df_comisiones.transpose().to_dict()\n",
    "\n",
    "\n",
    "\n",
    "def comision_vigente(x):\n",
    "    #Cambia x por el orden de la comision usando el diccionario\n",
    "\n",
    "    if isinstance(x, float):\n",
    "        comision = x\n",
    "    else:\n",
    "        if x in dict_comisiones:\n",
    "            comision = dict_comisiones[x]['ORDEN']\n",
    "        else:\n",
    "            comision = 'OTRA COMISION'\n",
    "    return comision\n",
    "\n",
    "dict_comisiones_2 = df_comisiones[df_comisiones.FINALIZADA != True].sort_values('ORDEN').reset_index().set_index('ORDEN').transpose().to_dict()\n",
    "\n",
    "def lista_comisiones():\n",
    "    # devuelve la lista de las comisiones vigentes, sin duplicados en el numero de orden por cambio de nombre\n",
    "    return df_comisiones[df_comisiones.FINALIZADA != True].sort_values(['ORDEN'])\n",
    "\n"
   ]
  },
  {
   "cell_type": "markdown",
   "metadata": {},
   "source": [
    "## Datos de las comisiones ya preparados:"
   ]
  },
  {
   "cell_type": "code",
   "execution_count": null,
   "metadata": {},
   "outputs": [],
   "source": [
    "print(lista_comisiones().head(4))"
   ]
  },
  {
   "cell_type": "markdown",
   "metadata": {},
   "source": [
    "## Preparación del dataframe de proyectos (Sumario de la Mesa de Entradas)"
   ]
  },
  {
   "cell_type": "markdown",
   "metadata": {},
   "source": [
    "#### Transformadores a utilizar en la preparación de datos:"
   ]
  },
  {
   "cell_type": "code",
   "execution_count": null,
   "metadata": {},
   "outputs": [],
   "source": [
    "# TRANSFORMADOR\n",
    "class DropNullsColumn(BaseEstimator, TransformerMixin):\n",
    "    ''' Devuelve el dataset solo con las filas que no \n",
    "        tienen la columna del parámetro en null '''\n",
    "    \n",
    "    def __init__(self,column_name):        \n",
    "        self.column_name = column_name\n",
    "    \n",
    "    def transform(self, X):\n",
    "            X = X[X[self.column_name].notnull()]\n",
    "            return X\n",
    "    \n",
    "    def fit(self, *_):\n",
    "        return self \n",
    "    \n",
    "# TRANSFORMADOR\n",
    "class TextReplacer(BaseEstimator, TransformerMixin):\n",
    "    ''' Extrae el texto <<valor>> de la columna <<col_name_1>> y lo reemplaza con el texto de <<nuevo_valor>>'''\n",
    "    \n",
    "    def __init__(self,col_name_1, valor, nuevo_valor):        \n",
    "        self.col_name_1 = col_name_1        \n",
    "        self.valor = valor\n",
    "        self.nuevo_valor = nuevo_valor\n",
    "    \n",
    "    def transform(self, X):\n",
    "           # X[self.col_name_2] = X[self.col_name_1].str.extract(self.valor, expand=False)\n",
    "            X[self.col_name_1] = X[self.col_name_1].str.replace(self.valor,self.nuevo_valor).str.strip()\n",
    "            return X\n",
    "    \n",
    "    def fit(self, *_):\n",
    "        return self \n",
    "    \n",
    "# TRANSFORMADOR\n",
    "def drop(columns):\n",
    "    ''' Devuelve un transformador que elimina las columnas pasadas como parámetros del dataframe '''\n",
    "    return FunctionTransformer(lambda X: X.drop(columns=columns), validate=False)\n",
    "\n",
    "# TRANSFORMADOR\n",
    "def getDummies(col, drop_first):\n",
    "    return FunctionTransformer(lambda X: pd.get_dummies(X, drop_first=drop_first))\n",
    "\n",
    "# TRANSFORMADOR\n",
    "def extract(columns):\n",
    "    return FunctionTransformer(lambda X: X[columns], validate=False)\n",
    "\n",
    "# TRANSFORMADOR\n",
    "def dropRows(column, value):\n",
    "    ''' Elimina las filas que tienen <<valor>> en la columna pasda como parámetro '''\n",
    "    return FunctionTransformer(lambda X: X.loc[X[column]!=value], validate=False)\n",
    "\n",
    "# TRANSFORMADOR\n",
    "def dropAllNulls(axis):\n",
    "    ''' Llena con ceros las columnas de dummies que tienen todo null '''\n",
    "    return FunctionTransformer(lambda X: X.fillna(0).astype('int'), validate=False)\n",
    "\n",
    "\n",
    "\n",
    "# TRANSFORMADOR\n",
    "class Splitter(BaseEstimator, TransformerMixin):\n",
    "    ''' Hace un split de la columna <<column_name>> y pone los valores en dos columnas nuevas\n",
    "       con nombres <<name1>> y <<name2>>'''\n",
    "    \n",
    "    def __init__(self,column_name, loops, sep):        \n",
    "        self.column_name = column_name\n",
    "        self.loops = loops\n",
    "        self.sep = sep        \n",
    "    \n",
    "    def transform(self, X):           \n",
    "            df2 = X[self.column_name].apply(lambda x: pd.Series(x.split(self.sep)))           \n",
    "            X = X.join( df2[[0,1,2,3]])           \n",
    "            return X\n",
    "    \n",
    "    def fit(self, *_):\n",
    "        return self\n",
    "    \n",
    "# TRANSFORMADOR\n",
    "class CorrectorGiroDoble(BaseEstimator, TransformerMixin):\n",
    "    \n",
    "    def __init__(self):        \n",
    "           pass\n",
    "        \n",
    "    def transform(self, X):\n",
    "        cols = X.filter(regex='^\\d').columns\n",
    "        X[cols] = X[cols].applymap(lambda x: x if x < 2 else 1)\n",
    "        return X       \n",
    "       \n",
    "        \n",
    "    def fit(self, *_):\n",
    "        return self\n",
    "\n",
    "\n",
    "# TRANSFORMADOR\n",
    "class DictionaryTransformer(BaseEstimator, TransformerMixin):\n",
    "    ''' Convierte los valores de la columna <<col_name>> otros según el diccionario pasado por parametro'''    \n",
    "    \n",
    "    def __init__(self,cols,dic):             \n",
    "        self.dic = dic\n",
    "        self.cols = cols        \n",
    "        \n",
    "    def comision_vigente(self, x):      \n",
    "        if x in self.dic:\n",
    "            comision = self.dic[x]['ORDEN']\n",
    "        else:\n",
    "            if x == 'NA':\n",
    "                comision = np.nan\n",
    "            else:\n",
    "                comision = 'OTRA COMISION'\n",
    "        return comision\n",
    "        \n",
    "    def transform(self, X):\n",
    "            for i in self.cols:\n",
    "                X[i] = X[i].fillna('NA').transform(self.comision_vigente)\n",
    "            return X\n",
    "    \n",
    "    def fit(self, *_):\n",
    "        return self\n",
    "    \n",
    "# TRANSFORMADOR\n",
    "class MatrizDummies(BaseEstimator, TransformerMixin):\n",
    "    ''' Hace la matriz de 0 y 1 con las multilabels '''   \n",
    "    \n",
    "    def __init__(self,cols):             \n",
    "        self.cols = cols       \n",
    "   \n",
    "        \n",
    "    def transform(self, X):            \n",
    "            frames = {}\n",
    "            for i in self.cols:\n",
    "                frames[i] = pd.get_dummies(X[i])          \n",
    "            temp = frames [i]\n",
    "            for j in range(i - 1,-1,-1):\n",
    "                temp = temp + frames[j]\n",
    "            X = X.rename(columns={0: 'giro_1', 1: 'giro_2', 2: 'giro_3', 3: 'giro_4'})\n",
    "            temp = temp.fillna(0).astype('int')\n",
    "            X = X.join(temp, how='inner')\n",
    "            return X\n",
    "    \n",
    "    def fit(self, *_):\n",
    "        return self\n",
    "    \n"
   ]
  },
  {
   "cell_type": "markdown",
   "metadata": {},
   "source": [
    "#### Pipiline de preparación de datos:"
   ]
  },
  {
   "cell_type": "code",
   "execution_count": null,
   "metadata": {},
   "outputs": [],
   "source": [
    "steps = [          \n",
    "        ('extractor', extract(['EXPEDIENTE','TITULO', 'GIRO_INICIADORA'])),    \n",
    "        ('dropper_1', DropNullsColumn('GIRO_INICIADORA')),\n",
    "        ('delete_reproduccion', TextReplacer('TITULO', '(\\(REPRODUCCION.*\\))','')),\n",
    "        ('comisiones_splitter', Splitter('GIRO_INICIADORA', 1,';')),\n",
    "        ('comisiones_to_codes', DictionaryTransformer([0,1,2,3],dict_comisiones)),\n",
    "        ('dropper_2', dropRows(0, 'OTRA COMISION')),\n",
    "        ('dropper_3', dropRows(1, 'OTRA COMISION')),\n",
    "        ('dropper_4', dropRows(2, 'OTRA COMISION')),\n",
    "        ('dropper_5', dropRows(3, 'OTRA COMISION')),\n",
    "        ('dummies', MatrizDummies([0,1,2,3])),\n",
    "        ('doble_giro_corrector', CorrectorGiroDoble())\n",
    "        ]"
   ]
  },
  {
   "cell_type": "code",
   "execution_count": null,
   "metadata": {},
   "outputs": [],
   "source": [
    "pipe = Pipeline(steps=steps)\n",
    "df = pipe.transform(df)"
   ]
  },
  {
   "cell_type": "code",
   "execution_count": null,
   "metadata": {},
   "outputs": [],
   "source": []
  },
  {
   "cell_type": "code",
   "execution_count": null,
   "metadata": {},
   "outputs": [],
   "source": []
  },
  {
   "cell_type": "code",
   "execution_count": null,
   "metadata": {},
   "outputs": [],
   "source": [
    "\n",
    "\n",
    "df.to_csv(\"proy_ME_1.csv\", encoding=\"utf-8\")"
   ]
  },
  {
   "cell_type": "code",
   "execution_count": null,
   "metadata": {},
   "outputs": [],
   "source": [
    "df.head()"
   ]
  },
  {
   "cell_type": "code",
   "execution_count": null,
   "metadata": {},
   "outputs": [],
   "source": [
    "df.GIRO_INICIADORA.value_counts()[0:40].plot(kind=\"barh\",figsize=(30, 40), fontsize=32)"
   ]
  },
  {
   "cell_type": "code",
   "execution_count": null,
   "metadata": {},
   "outputs": [],
   "source": []
  },
  {
   "cell_type": "code",
   "execution_count": null,
   "metadata": {},
   "outputs": [],
   "source": []
  },
  {
   "cell_type": "code",
   "execution_count": null,
   "metadata": {},
   "outputs": [],
   "source": []
  },
  {
   "cell_type": "code",
   "execution_count": null,
   "metadata": {},
   "outputs": [],
   "source": []
  },
  {
   "cell_type": "markdown",
   "metadata": {},
   "source": [
    "### Datos alternativos:  proyectos del servicio de referencia parlamentaria\n"
   ]
  },
  {
   "cell_type": "code",
   "execution_count": null,
   "metadata": {},
   "outputs": [],
   "source": [
    "\n",
    "\n",
    "\n"
   ]
  },
  {
   "cell_type": "code",
   "execution_count": null,
   "metadata": {},
   "outputs": [],
   "source": []
  },
  {
   "cell_type": "code",
   "execution_count": null,
   "metadata": {},
   "outputs": [],
   "source": []
  },
  {
   "cell_type": "markdown",
   "metadata": {},
   "source": [
    "## Datos de los proyectos ya preparados para el clasificador:\n",
    "El dataset preparado quedó con 45 columnas correspondientes a cada una de las 45 comisiones que contienen 0 o 1 según si la comisión fue asignada o no al proyecto.  Y un campo 'TITULO', que vamos a utilizar para predecir las etiquetas."
   ]
  },
  {
   "cell_type": "code",
   "execution_count": null,
   "metadata": {},
   "outputs": [],
   "source": [
    "#Descomentar para correr el proyecto desde acá\n",
    "proy = pd.read_csv(\"proy_ME_1.csv\",  encoding=\"utf-8\")\n",
    "\n",
    "proy"
   ]
  },
  {
   "cell_type": "markdown",
   "metadata": {},
   "source": [
    "### Gráfico exploratorio: correlación entre las etiquetas\n",
    "\n",
    "Sospechamos que hay una regularidad o patrón en la asignación de los proyectos a ciertas comisiones. Por ejemplo, los proyectos que son enviados a la comisión de \"Vivienda\", suelen ser enviados también a \"Finanzas\"  (posiblemente, porque se refieran a créditos para la vivienda); del mismo modo un proyecto que es girado a \"Minería\", probablemente también sea girado a \"Recursos naturales y conservación del ambiente\", y así sucesivamente.\n",
    "\n",
    "Para comprobar estas regularidades vamos a graficar la correlación que se verifica entre las distintas comisiones en el giro de los proyectos estudiados:"
   ]
  },
  {
   "cell_type": "code",
   "execution_count": null,
   "metadata": {},
   "outputs": [],
   "source": [
    "sns.set(style=\"white\")\n",
    "\n",
    "d = proy\n",
    "d = proy.filter(regex='^\\d')\n",
    "\n",
    "# Compute the correlation matrix\n",
    "corr = d.corr()\n",
    "\n",
    "# Generate a mask for the upper triangle\n",
    "mask = np.zeros_like(corr, dtype=np.bool)\n",
    "mask[np.triu_indices_from(mask)] = True\n",
    "\n",
    "# Set up the matplotlib figure\n",
    "sns.set(font_scale=0.8)\n",
    "f, ax = plt.subplots(figsize=(11, 9))\n",
    "\n",
    "# Generate a custom diverging colormap\n",
    "cmap = sns.cubehelix_palette(148, start=.5, rot=-.75)\n",
    "\n",
    "# Draw the heatmap with the mask and correct aspect ratio\n",
    "g = sns.heatmap(corr, mask=mask, cmap='BuPu', vmax=.3, center=0,\n",
    "            square=True, linewidths=.5, cbar_kws={\"shrink\": .5})\n",
    "ax.set_xticklabels(lista_comisiones().index,  rotation=90)\n",
    "ax.set_yticklabels(lista_comisiones().index,  rotation=0)\n",
    "plt.show()\n"
   ]
  },
  {
   "cell_type": "code",
   "execution_count": null,
   "metadata": {},
   "outputs": [],
   "source": [
    "\n",
    "## EJEMPLO CON DATOS FABRICADOS PARA PROBAR MODELOS:\n",
    "\n",
    "X, y = make_multilabel_classification(sparse=True, n_labels=5, return_indicator='sparse', allow_unlabeled=False)\n",
    "X_train, X_test, y_train, y_test = train_test_split(X, y, test_size=0.33)\n",
    "clf = BinaryRelevance(SVC())\n",
    "clf.fit(X_train, y_train)\n",
    "y_pred = clf.predict(X_test)\n",
    "print(\"The macro averaged F1-score is: %.3f\" %(f1_score(y_pred, y_test, average='macro')))"
   ]
  },
  {
   "cell_type": "markdown",
   "metadata": {},
   "source": [
    "## Métricas a utilizar:"
   ]
  },
  {
   "cell_type": "markdown",
   "metadata": {},
   "source": [
    "### Classification report\n",
    "* Precision:\n",
    "* Recall\n",
    "* F1-Score"
   ]
  },
  {
   "attachments": {},
   "cell_type": "markdown",
   "metadata": {},
   "source": [
    "### Jaccard similarity:\n"
   ]
  },
  {
   "cell_type": "markdown",
   "metadata": {},
   "source": [
    "### Hamming loss:"
   ]
  },
  {
   "cell_type": "markdown",
   "metadata": {},
   "source": [
    "### Average precision score"
   ]
  },
  {
   "cell_type": "markdown",
   "metadata": {},
   "source": [
    "### Vectorización del texto y split en train y test"
   ]
  },
  {
   "cell_type": "code",
   "execution_count": null,
   "metadata": {},
   "outputs": [],
   "source": [
    "#Para la jupyter notebook uso los ultimos proyectos para que no de memory error:\n",
    "X = proy.iloc[-1000:,:]\n",
    "X = X['TITULO']\n",
    "y = proy.filter(regex='^\\d')\n",
    "y = y.iloc[-1000:,:]\n",
    "\n",
    "\n",
    "'''\n",
    "my_stop_words =  get_stop_words('es')\n",
    "vect = TfidfVectorizer(max_features=15000,stop_words=my_stop_words,ngram_range=(3,6))\n",
    "X = vect.fit_transform(X)\n",
    "print(vect.get_feature_names()[-3000:])\n",
    "'''\n",
    "\n",
    "count_vect = CountVectorizer()\n",
    "X = count_vect.fit_transform(X)\n",
    "\n",
    "\n",
    "X_train, X_test, y_train, y_test = train_test_split(X, y, test_size=0.20, shuffle=True )"
   ]
  },
  {
   "attachments": {
    "image.png": {
     "image/png": "[encoded data removed]"
    }
   },
   "cell_type": "markdown",
   "metadata": {},
   "source": [
    "# Primer clasificador:  Binomial Relevance\n",
    "Este clasificador se ubica dentro de la categoría de clasificadores que **transforman el problema de multi-label a single-label**.  Básicamente asigna cada etiqueta a cada registro como si se tratara de un problema de una sola etiqueta, separando el problema en tantos problemas como etiquetas haya.  Después de separar el problema, el clasificador BR puede utilizar cualquier otro clasificador \"single-label\" para asignar cada etiqueta.\n",
    "\n",
    "![image.png](attachment:image.png)   \n",
    "\n",
    "Evidentemente, este clasificador funciona bien cuando no hay una correlación entre las etiquetas. \n",
    "\n",
    "Igualmente, vamos a probar con un clasificador BR, que utiliza un clasificador Gaussian Naive Bayes.\n"
   ]
  },
  {
   "cell_type": "code",
   "execution_count": null,
   "metadata": {},
   "outputs": [],
   "source": [
    "\n",
    "classifier = BinaryRelevance(GaussianNB())\n",
    "classifier.fit(X_train, y_train)\n",
    "predictions = classifier.predict(X_test)\n"
   ]
  },
  {
   "cell_type": "code",
   "execution_count": null,
   "metadata": {},
   "outputs": [],
   "source": [
    "ac = accuracy_score(y_test,predictions)\n",
    "hl = hamming_loss(y_test, predictions)\n",
    "js = jaccard_similarity_score(y_test, predictions)\n",
    "js_normal = jaccard_similarity_score(y_test, predictions,normalize=False)\n",
    "\n",
    "print(\"Accuracy score: {0}\".format(ac))\n",
    "print(\"Hamming_loss: {0} \\nJaccard similarity: {1} \\n\".format(hl,js,js_normal))"
   ]
  },
  {
   "cell_type": "code",
   "execution_count": null,
   "metadata": {},
   "outputs": [],
   "source": [
    "print(classification_report(y_test, predictions, target_names=lista_comisiones().index.values))"
   ]
  },
  {
   "cell_type": "code",
   "execution_count": null,
   "metadata": {
    "scrolled": true
   },
   "outputs": [],
   "source": [
    "# initialize Binary Relevance multi-label classifier\n",
    "# with an SVM classifier\n",
    "# SVM in scikit only supports the X matrix in sparse representation\n",
    "\n",
    "classifier = BinaryRelevance(classifier = SVC())\n",
    "\n",
    "classifier.fit(X_train, y_train)\n",
    "\n",
    "predictions = classifier.predict(X_test)"
   ]
  },
  {
   "cell_type": "code",
   "execution_count": null,
   "metadata": {},
   "outputs": [],
   "source": [
    "ac = accuracy_score(y_test,predictions)\n",
    "hl = hamming_loss(y_test, predictions)\n",
    "js = jaccard_similarity_score(y_test, predictions)\n",
    "js_normal = jaccard_similarity_score(y_test, predictions,normalize=False)\n",
    "print(\"Accuracy score: {0}\".format(ac))\n",
    "print(\"Hamming_loss: {0} \\nJaccard similarity: {1} \\n\".format(hl,js,js_normal))"
   ]
  },
  {
   "cell_type": "markdown",
   "metadata": {},
   "source": [
    "# Segundo clasificador:  Classifier Chain\n",
    "Este clasificador también se ubica dentro de la categoría de clasificadores que **transforman el problema de multi-label a single-label**.  \n",
    "\n",
    "Pero en lugar de asignar cada etiqueta individualmente, asigna cada etiqueta teniendo en cuenta no solo las variables independientes sino las etiquetas que ya asignó.\n",
    "\n",
    "Si hay correlacion de etiquetas, este clasificador debería funcionar mejor que el anterior.\n",
    "\n",
    "Al igual que en el caso anterior, vamos a probar el Classifier Chain, utiliza como base un clasificador Gaussian Naive Bayes."
   ]
  },
  {
   "cell_type": "code",
   "execution_count": null,
   "metadata": {},
   "outputs": [],
   "source": []
  },
  {
   "cell_type": "code",
   "execution_count": null,
   "metadata": {
    "scrolled": true
   },
   "outputs": [],
   "source": [
    "classifier = ClassifierChain(GaussianNB)\n",
    "\n",
    "# train\n",
    "classifier.fit(X_train, y_train)\n",
    "\n",
    "# predict\n",
    "predictions = classifier.predict(X_test)\n",
    "\n",
    "print(accuracy_score(y_test,predictions))"
   ]
  },
  {
   "cell_type": "markdown",
   "metadata": {},
   "source": [
    "# Tercer clasificador:  Label Powerset\n",
    "Este clasificador también corresponde a la categoría de clasificadores que **transforman el problema**.\n",
    "\n",
    "En este caso, el clasificador transforma el problema de \"multi-label\" a \"multi-class single-label\", ya que convierte cada combinación existente de etiquetas, en un único valor de una nueva y única etiqueta, que va a ser la que va a utilizar para resolver el problema.\n",
    "\n"
   ]
  },
  {
   "cell_type": "code",
   "execution_count": null,
   "metadata": {},
   "outputs": [],
   "source": [
    "\n",
    "classifier = LabelPowerset(GaussianNB())\n",
    "\n",
    "# train\n",
    "classifier.fit(X_train, y_train)\n",
    "\n",
    "# predict\n",
    "predictions = classifier.predict(X_test)\n",
    "\n",
    "print(accuracy_score(y_test,predictions))"
   ]
  },
  {
   "cell_type": "code",
   "execution_count": null,
   "metadata": {},
   "outputs": [],
   "source": [
    "ac = accuracy_score(y_test,predictions)\n",
    "hl = hamming_loss(y_test, predictions)\n",
    "js = jaccard_similarity_score(y_test, predictions)\n",
    "js_normal = jaccard_similarity_score(y_test, predictions,normalize=False)\n",
    "\n",
    "print(\"Accuracy score: {0}\".format(ac))\n",
    "print(\"Hamming_loss: {0} \\nJaccard similarity: {1} \\n\".format(hl,js,js_normal))"
   ]
  },
  {
   "cell_type": "code",
   "execution_count": null,
   "metadata": {},
   "outputs": [],
   "source": [
    "#  Esta métrica no anda con mis datos:\n",
    "average_precision_score(y_test, predictions.todense())"
   ]
  },
  {
   "cell_type": "markdown",
   "metadata": {},
   "source": [
    "### Cuarto clasificador: MLkNN\n",
    "Este clasificador no obedece a la estrategia de transformación sino que es una adaptación de kNN para el problema de la clasificación multi-label."
   ]
  },
  {
   "cell_type": "code",
   "execution_count": null,
   "metadata": {},
   "outputs": [],
   "source": [
    "from skmultilearn.adapt import MLkNN\n",
    "\n",
    "classifier = MLkNN(k=2)\n",
    "\n",
    "# train\n",
    "classifier.fit(csr_matrix(X_train), csr_matrix(y_train))\n",
    "\n",
    "# predict\n",
    "predictions = classifier.predict(csr_matrix(X_test))"
   ]
  },
  {
   "cell_type": "code",
   "execution_count": null,
   "metadata": {},
   "outputs": [],
   "source": [
    "ac = accuracy_score(y_test,predictions)\n",
    "hl = hamming_loss(y_test, predictions)\n",
    "js = jaccard_similarity_score(y_test, predictions)\n",
    "js_normal = jaccard_similarity_score(y_test, predictions,normalize=False)\n",
    "\n",
    "print(\"Accuracy score: {0}\".format(ac))\n",
    "print(\"Hamming_loss: {0} \\nJaccard similarity: {1} \\n\".format(hl,js,js_normal))"
   ]
  },
  {
   "cell_type": "markdown",
   "metadata": {},
   "source": [
    "### Quinto clasificador: Random Forest"
   ]
  },
  {
   "cell_type": "code",
   "execution_count": null,
   "metadata": {},
   "outputs": [],
   "source": [
    "from sklearn.ensemble import RandomForestClassifier\n",
    "from skmultilearn.problem_transform import LabelPowerset\n",
    "from skmultilearn.cluster import IGraphLabelCooccurenceClusterer\n",
    "from skmultilearn.ensemble import LabelSpacePartitioningClassifier\n",
    "\n",
    "# construct base forest classifier\n",
    "base_classifier = RandomForestClassifier()\n",
    "\n",
    "# setup problem transformation approach with sparse matrices for random forest\n",
    "problem_transform_classifier = LabelPowerset(classifier=base_classifier,\n",
    "    require_dense=[False, False])\n",
    "\n",
    "# partition the label space using fastgreedy community detection\n",
    "# on a weighted label co-occurrence graph with self-loops allowed\n",
    "clusterer = IGraphLabelCooccurenceClusterer('fastgreedy', weighted=True,\n",
    "    include_self_edges=True)\n",
    "\n",
    "# setup the ensemble metaclassifier\n",
    "classifier = LabelSpacePartitioningClassifier(problem_transform_classifier, clusterer)\n",
    "\n",
    "# train\n",
    "classifier.fit(X_train, y_train)\n",
    "\n",
    "# predict\n",
    "predictions = classifier.predict(X_test)"
   ]
  },
  {
   "cell_type": "markdown",
   "metadata": {},
   "source": [
    "### TO DOs:\n",
    "Text analitics y feature extraction sobre el sumario\n",
    "GridSearch/ Cross Validaton \n"
   ]
  },
  {
   "cell_type": "markdown",
   "metadata": {},
   "source": [
    "## Text analitics sobre los campos de texto:"
   ]
  },
  {
   "cell_type": "code",
   "execution_count": null,
   "metadata": {},
   "outputs": [],
   "source": [
    "X = proy.iloc[-3000:,:]\n",
    "X = X['TITULO']\n",
    "my_stop_words =  get_stop_words('es')\n",
    "vect = TfidfVectorizer(stop_words=my_stop_words, ngram_range=(3,5))\n",
    "X = vect.fit_transform(X)\n",
    "print(vect.get_feature_names()[-300:])"
   ]
  },
  {
   "cell_type": "code",
   "execution_count": null,
   "metadata": {},
   "outputs": [],
   "source": []
  }
 ],
 "metadata": {
  "kernelspec": {
   "display_name": "Python 3",
   "language": "python",
   "name": "python3"
  },
  "language_info": {
   "codemirror_mode": {
    "name": "ipython",
    "version": 3
   },
   "file_extension": ".py",
   "mimetype": "text/x-python",
   "name": "python",
   "nbconvert_exporter": "python",
   "pygments_lexer": "ipython3",
   "version": "3.6.4"
  }
 },
 "nbformat": 4,
 "nbformat_minor": 2
}
